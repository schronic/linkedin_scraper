{
 "cells": [
  {
   "cell_type": "code",
   "execution_count": null,
   "id": "eea4bc86",
   "metadata": {},
   "outputs": [],
   "source": [
    "from . import actions\n",
    "from selenium.webdriver.support.wait import WebDriverWait\n",
    "from selenium.webdriver.support import expected_conditions as EC\n",
    "from selenium import webdriver\n",
    "from selenium.webdriver.common.by import By\n",
    "from selenium.webdriver.common.keys import Keys\n",
    "import pandas as pd\n",
    "from collections import OrderedDict\n",
    "from selenium import webdriver\n"
   ]
  },
  {
   "cell_type": "code",
   "execution_count": null,
   "id": "d29508db",
   "metadata": {},
   "outputs": [],
   "source": [
    "driver = webdriver.Chrome()"
   ]
  },
  {
   "cell_type": "code",
   "execution_count": null,
   "id": "a20338e6",
   "metadata": {},
   "outputs": [],
   "source": [
    "\n",
    "email = \"LINKEDIN EMAIL\"\n",
    "password = \"LINKEDIN PWD\"\n",
    "actions.login(driver, email, password)\n"
   ]
  },
  {
   "cell_type": "code",
   "execution_count": null,
   "id": "22ba608b",
   "metadata": {},
   "outputs": [],
   "source": [
    "# LINKEDIN URL FOR QUERY TO SCRAPE USERS FOR\n",
    "# PG: NUMBER OF PAGES OF PEOPLE TO SCRAPE FOR\n",
    "\n",
    "url = 'https://www.linkedin.com/search/results/people/?geoUrn=%5B%22101282230%22%5D&keywords=innovation%20manager&network=%5B%22F%22%2C%22S%22%5D&origin=FACETED_SEARCH&sid=l1V'\n",
    "pg = 2\n"
   ]
  },
  {
   "cell_type": "code",
   "execution_count": null,
   "id": "f87dba89",
   "metadata": {},
   "outputs": [],
   "source": [
    "driver.get(url)"
   ]
  },
  {
   "cell_type": "code",
   "execution_count": null,
   "id": "8d916484",
   "metadata": {},
   "outputs": [],
   "source": [
    "db = []\n",
    "\n",
    "for i in range(0, pg):\n",
    "    WebDriverWait(driver, 20).until(EC.presence_of_element_located((By.CLASS_NAME, 'entity-result__item')))\n",
    "    cards = driver.find_elements(By.CLASS_NAME, 'entity-result__item')\n",
    "\n",
    "    for card in cards: \n",
    "        try:\n",
    "            title = card.find_element(By.CLASS_NAME, 'entity-result__title-text').find_element(By.TAG_NAME, \"a\")\n",
    "            lnk = title.get_attribute('href')\n",
    "            name = title.text.split('\\n')[0]\n",
    "            primary = card.find_element(By.CLASS_NAME, 'entity-result__primary-subtitle').text\n",
    "            secondary = card.find_element(By.CLASS_NAME, 'entity-result__secondary-subtitle').text\n",
    "            summary = card.find_element(By.CLASS_NAME, 'entity-result__summary').text\n",
    "            insights = card.find_element(By.CLASS_NAME, 'entity-result__insights')\n",
    "            connections = insights.find_elements(By.TAG_NAME, \"a\")\n",
    "            l_conns = []\n",
    "            for con in connections:\n",
    "                con_name = con.text\n",
    "                con_lnk = con.get_attribute('href')\n",
    "                l_conns.append([con_name, con_lnk])\n",
    "\n",
    "            db.append({\n",
    "                'name': name,\n",
    "                'lnk': lnk,\n",
    "                'primary': primary,\n",
    "                'secondary': secondary,\n",
    "                'summary': summary,\n",
    "                'connections': l_conns\n",
    "            })\n",
    "        except:\n",
    "            pass\n",
    "\n",
    "    if i < (pg-1):\n",
    "        while True:\n",
    "            try: \n",
    "                driver.execute_script(\"window.scrollTo(0, document.body.scrollHeight);\")\n",
    "\n",
    "                WebDriverWait(driver, 20).until(EC.presence_of_element_located((By.CLASS_NAME, 'artdeco-pagination')))\n",
    "                pages = driver.find_element(By.CLASS_NAME, \"artdeco-pagination\")\n",
    "\n",
    "                WebDriverWait(pages, 20).until(EC.presence_of_element_located((By.CLASS_NAME, 'artdeco-pagination__button--next'))).click()\n",
    "                break\n",
    "            except:\n",
    "                pass\n",
    "\n"
   ]
  },
  {
   "cell_type": "code",
   "execution_count": null,
   "id": "7be60bd5",
   "metadata": {},
   "outputs": [],
   "source": [
    "df = pd.DataFrame(db)"
   ]
  },
  {
   "cell_type": "code",
   "execution_count": null,
   "id": "0dd0b9bb",
   "metadata": {},
   "outputs": [],
   "source": [
    "df.head()"
   ]
  },
  {
   "cell_type": "code",
   "execution_count": null,
   "id": "401a4916",
   "metadata": {},
   "outputs": [],
   "source": [
    "\n",
    "experiences = []\n",
    "\n",
    "urls = df.lnk.values\n",
    "for url in urls:\n",
    "    driver.get(url)\n",
    "    WebDriverWait(driver, 20).until(EC.presence_of_element_located((By.ID, 'experience')))\n",
    "    experience = driver.find_element(By.ID, 'experience')\n",
    "    experience_list = experience.find_element(By.XPATH, '../div[3]/ul')\n",
    "    pvs_list = experience_list.find_elements(By.XPATH, '*')\n",
    "\n",
    "    for i, pvs in enumerate(pvs_list):\n",
    "        try:\n",
    "\n",
    "            ps = pvs.find_element(By.XPATH, 'div/div[2]/div[2]/ul')\n",
    "            c = ps.find_element(By.XPATH, '../../div')\n",
    "            company_name = c.text\n",
    "            lnk = c.find_element(By.TAG_NAME, \"a\").get_attribute('href')\n",
    "            company_name = list(OrderedDict.fromkeys(company_name.split('\\n')))\n",
    "\n",
    "            ps = ps.find_elements(By.XPATH, '*')\n",
    "            for n in ps:\n",
    "                ps_n = n.find_element(By.XPATH, 'div[contains(@class, \"pvs-entity\")]')\n",
    "\n",
    "                ps_n = list(OrderedDict.fromkeys(ps_n.text.split('\\n')))\n",
    "                final = [url, company_name[0], lnk] + ps_n\n",
    "                experiences.append(final)\n",
    "        except:\n",
    "\n",
    "            x = pvs.find_element(By.XPATH, 'div/div[2]/div')\n",
    "            lnk = pvs.find_element(By.XPATH, 'div/div').find_element(By.TAG_NAME, \"a\").get_attribute('href')\n",
    "            ps = list(OrderedDict.fromkeys(x.text.split('\\n')))\n",
    "\n",
    "            final = [url, ps[1], lnk, ps[0]]\n",
    "            if len(ps) >= 4:\n",
    "                final = final + [ps[2], ps[3]]\n",
    "            elif len(ps) >= 3:\n",
    "                final = final + [ps[2]]\n",
    "            experiences.append(final)"
   ]
  },
  {
   "cell_type": "code",
   "execution_count": null,
   "id": "1007406f",
   "metadata": {},
   "outputs": [],
   "source": [
    "experiences_df = pd.DataFrame([item[:6] for item in experiences], columns = ['lnk', 'company', 'company_url', 'position', 'duration', 'location'])\n"
   ]
  },
  {
   "cell_type": "code",
   "execution_count": null,
   "id": "9cca92d9",
   "metadata": {},
   "outputs": [],
   "source": [
    "experiences_df = experiences_df.merge(df, on='lnk')\n"
   ]
  },
  {
   "cell_type": "code",
   "execution_count": null,
   "id": "7a2c613c",
   "metadata": {},
   "outputs": [],
   "source": [
    "experiences_df.head()"
   ]
  },
  {
   "cell_type": "markdown",
   "id": "fc53738d",
   "metadata": {},
   "source": [
    "# Test\n",
    "\n",
    "AUTOMATE THE SENDING OF PERSONALIZED MESSAGES"
   ]
  },
  {
   "cell_type": "code",
   "execution_count": null,
   "id": "6053ec42",
   "metadata": {},
   "outputs": [],
   "source": [
    "url = 'LINKEDIN USER LINK'\n",
    "driver.get(url)"
   ]
  },
  {
   "cell_type": "code",
   "execution_count": null,
   "id": "b0cf4a5c",
   "metadata": {},
   "outputs": [],
   "source": [
    "actions = driver.find_element(By.CLASS_NAME, 'pvs-profile-actions')"
   ]
  },
  {
   "cell_type": "code",
   "execution_count": null,
   "id": "b7f2c0ae",
   "metadata": {},
   "outputs": [],
   "source": [
    "btns = actions.find_elements(By.TAG_NAME, 'button')"
   ]
  },
  {
   "cell_type": "code",
   "execution_count": null,
   "id": "be16e186",
   "metadata": {},
   "outputs": [],
   "source": [
    "for i in btns:\n",
    "    if i.text.strip() == 'Message':\n",
    "        i.click()\n",
    "        break"
   ]
  },
  {
   "cell_type": "code",
   "execution_count": null,
   "id": "a08f0cd4",
   "metadata": {},
   "outputs": [],
   "source": [
    "driver.find_element(By.CLASS_NAME, 'msg-form__contenteditable').find_element(By.TAG_NAME, 'p').send_keys('TEST MESSAGE')"
   ]
  },
  {
   "cell_type": "code",
   "execution_count": null,
   "id": "74417498",
   "metadata": {},
   "outputs": [],
   "source": [
    "driver.find_element(By.CLASS_NAME, 'msg-form__send-button').click()"
   ]
  },
  {
   "cell_type": "code",
   "execution_count": null,
   "id": "6f15af21",
   "metadata": {},
   "outputs": [],
   "source": [
    "driver.quit()"
   ]
  },
  {
   "cell_type": "code",
   "execution_count": null,
   "id": "70fad175",
   "metadata": {},
   "outputs": [],
   "source": []
  }
 ],
 "metadata": {
  "kernelspec": {
   "display_name": "Python 3 (ipykernel)",
   "language": "python",
   "name": "python3"
  },
  "language_info": {
   "codemirror_mode": {
    "name": "ipython",
    "version": 3
   },
   "file_extension": ".py",
   "mimetype": "text/x-python",
   "name": "python",
   "nbconvert_exporter": "python",
   "pygments_lexer": "ipython3",
   "version": "3.8.9"
  }
 },
 "nbformat": 4,
 "nbformat_minor": 5
}
