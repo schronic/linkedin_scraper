{
 "cells": [
  {
   "cell_type": "code",
   "execution_count": null,
   "id": "8875b8be",
   "metadata": {},
   "outputs": [],
   "source": [
    "from linkedin_scraper.linkedin_scraper import actions\n",
    "from selenium.webdriver.support.wait import WebDriverWait\n",
    "from selenium.webdriver.support import expected_conditions as EC\n",
    "from selenium import webdriver\n",
    "from selenium.webdriver.common.by import By\n",
    "from selenium.webdriver.common.keys import Keys\n",
    "\n",
    "import pandas as pd\n",
    "\n",
    "import gspread\n",
    "import df2gspread as d2g\n",
    "from df2gspread import df2gspread as d2g\n",
    "\n",
    "\n",
    "from oauth2client.service_account import ServiceAccountCredentials"
   ]
  },
  {
   "cell_type": "code",
   "execution_count": null,
   "id": "5fa56b48",
   "metadata": {},
   "outputs": [],
   "source": [
    "driver = webdriver.Chrome()\n",
    "\n",
    "email = \"LINKEDIN IN USERNAME\"\n",
    "password = \"LINKEDIN PWD\"\n",
    "actions.login(driver, email, password)\n"
   ]
  },
  {
   "cell_type": "code",
   "execution_count": null,
   "id": "aa2d2235",
   "metadata": {},
   "outputs": [],
   "source": [
    "# SPECIFY RELEVANT INPUT HERE\n",
    "# FILENAME: WHERE TO SAVE RESULTS TO\n",
    "# PG: LIST OF THE # OF PAGES IN LINKEDIN, RESPECTIVE TO EACH OF THE LINKS IN \"S\"\n",
    "# S: LIST OF LINKEDIN LINKS, OF COMPANIES, TO SCRAPE\n",
    "\n",
    "filename = 'Digitalization LinkedIn'\n",
    "pg = [3, 1, 2]\n",
    "\n",
    "s = '''https://www.linkedin.com/search/results/companies/?companyHqGeo=%5B%22106232576%22%2C%2290009712%22%5D&industryCompanyVertical=%5B%221855%22%2C%223105%22%2C%223104%22%2C%223103%22%2C%223107%22%2C%2296%22%2C%226%22%2C%222458%22%2C%223106%22%2C%223130%22%2C%224%22%2C%223244%22%5D&keywords=energy%20efficiency&origin=FACETED_SEARCH&searchId=cef66829-37e7-4038-b59a-01bb8ee486b5&sid=zUb\n",
    "https://www.linkedin.com/search/results/companies/?companyHqGeo=%5B%22106232576%22%2C%2290009712%22%5D&industryCompanyVertical=%5B%221855%22%2C%223105%22%2C%223104%22%2C%223103%22%2C%223107%22%2C%2296%22%2C%226%22%2C%222458%22%2C%223106%22%2C%223130%22%2C%224%22%2C%223244%22%5D&keywords=waste%20reduce&origin=GLOBAL_SEARCH_HEADER&sid=K(R\n",
    "https://www.linkedin.com/search/results/companies/?companyHqGeo=%5B%22106232576%22%2C%2290009712%22%5D&industryCompanyVertical=%5B%221855%22%2C%223105%22%2C%223104%22%2C%223103%22%2C%223107%22%2C%2296%22%2C%226%22%2C%222458%22%2C%223106%22%2C%223130%22%2C%224%22%2C%223244%22%5D&keywords=energy%20optimization&origin=GLOBAL_SEARCH_HEADER&sid=U(w'''"
   ]
  },
  {
   "cell_type": "code",
   "execution_count": null,
   "id": "43ad2daa",
   "metadata": {},
   "outputs": [],
   "source": [
    "urls = s.split('\\n')\n",
    "list_zip = zip(urls, pg)\n",
    "urls = list(list_zip)\n",
    "\n",
    "lnks = []"
   ]
  },
  {
   "cell_type": "code",
   "execution_count": null,
   "id": "21fefd0b",
   "metadata": {
    "scrolled": true
   },
   "outputs": [],
   "source": [
    "import time\n",
    "\n",
    "for url in urls:\n",
    "    driver.get(url[0])\n",
    "    time.sleep(2)\n",
    "    for i in range(0, url[1]):\n",
    "        driver.execute_script(\"window.scrollTo(0, 50);\")\n",
    "        WebDriverWait(driver, 20).until(EC.presence_of_element_located((By.CLASS_NAME, 'entity-result__item')))\n",
    "        cards = driver.find_elements(By.CLASS_NAME, 'entity-result__item')\n",
    "\n",
    "        for card in cards:\n",
    "            name = card.find_element(By.CLASS_NAME, \"entity-result__title-text\").text\n",
    "            lnk = card.find_element(By.CLASS_NAME, \"entity-result__title-text\").find_element(By.TAG_NAME, \"a\").get_attribute('href')\n",
    "            lnks.append([name, lnk])                        \n",
    "        if i < (url[1]-1):\n",
    "            while True:\n",
    "                try: \n",
    "                    driver.execute_script(\"window.scrollTo(0, document.body.scrollHeight);\")\n",
    "\n",
    "                    WebDriverWait(driver, 20).until(EC.presence_of_element_located((By.CLASS_NAME, 'artdeco-pagination')))\n",
    "                    pages = driver.find_element(By.CLASS_NAME, \"artdeco-pagination\")\n",
    "\n",
    "                    WebDriverWait(pages, 20).until(EC.presence_of_element_located((By.CLASS_NAME, 'artdeco-pagination__button--next'))).click()\n",
    "                    break\n",
    "                except:\n",
    "                    pass\n",
    "    \n",
    "    "
   ]
  },
  {
   "cell_type": "code",
   "execution_count": null,
   "id": "9ca151cf",
   "metadata": {},
   "outputs": [],
   "source": [
    "df = pd.DataFrame(lnks, columns=['name', 'url'])"
   ]
  },
  {
   "cell_type": "code",
   "execution_count": null,
   "id": "b311fc23",
   "metadata": {},
   "outputs": [],
   "source": [
    "all_companies = []"
   ]
  },
  {
   "cell_type": "code",
   "execution_count": null,
   "id": "8bdb31c8",
   "metadata": {},
   "outputs": [],
   "source": [
    "# RETRIEVING ADDITIONAL INFORMATION FROM LINKEDIN\n",
    "\n",
    "for link in lnks[64:]:\n",
    "    driver.get(link)\n",
    "    time.sleep(5)\n",
    "\n",
    "    name, tagline, domain, city, followers, website, phone, industry, size, founded, speciality = [None] * 11\n",
    "\n",
    "    try:\n",
    "        name = driver.find_element(By.CLASS_NAME, 'org-top-card-summary__title').text\n",
    "    except:\n",
    "        pass\n",
    "    \n",
    "    try:\n",
    "        tagline = driver.find_element(By.CLASS_NAME, 'org-top-card-summary__tagline').text\n",
    "    except:\n",
    "        pass\n",
    "\n",
    "    try: \n",
    "        domain = driver.find_elements(By.CLASS_NAME, 'org-top-card-summary-info-list__info-item')[0].text\n",
    "        city = driver.find_elements(By.CLASS_NAME, 'org-top-card-summary-info-list__info-item')[1].text \n",
    "        followers = driver.find_elements(By.CLASS_NAME, 'org-top-card-summary-info-list__info-item')[2].text\n",
    "    except:\n",
    "        pass\n",
    "    \n",
    "    company = {\n",
    "            'name' : name if name is not None else None,\n",
    "            'tagline' : tagline if tagline is not None else None,\n",
    "            'domain' : domain if domain is not None else None,\n",
    "            'city' : city if city is not None else None,\n",
    "            'followers' : followers if followers is not None else None,\n",
    "            'linkedin_link' : link\n",
    "    }\n",
    "\n",
    "    try: \n",
    "        about_index = [i.text for i in driver.find_elements(By.CLASS_NAME, 'org-page-navigation__item')].index(\"About\")\n",
    "        about_link = driver.find_elements(By.CLASS_NAME, 'org-page-navigation__item')[about_index].find_element(By.TAG_NAME, \"a\").get_attribute('href')\n",
    "\n",
    "        # ABOUT PAGE\n",
    "\n",
    "        driver.get(about_link)\n",
    "        time.sleep(5)\n",
    "\n",
    "        about_card = driver.find_element(By.TAG_NAME, 'dl')\n",
    "\n",
    "        if len(about_card.find_elements(By.TAG_NAME, 'dd')) == len(about_card.find_elements(By.TAG_NAME, 'dt')):    \n",
    "            params = [list(a) for a in zip([i.text for i in about_card.find_elements(By.TAG_NAME, 'dt')], [i.text for i in about_card.find_elements(By.TAG_NAME, 'dd')])]\n",
    "            for c in params: \n",
    "                company[c[0]] = c[1]\n",
    "\n",
    "        else:\n",
    "            for i, dt in enumerate(about_card.find_elements(By.TAG_NAME, 'dt')):\n",
    "                dt = about_card.find_elements(By.TAG_NAME, 'dt')[i]\n",
    "                if dt.text == \"Website\":\n",
    "                    company[dt.text] = about_card.find_elements(By.TAG_NAME, 'dd')[i].text\n",
    "                if dt.text == \"Phone\":\n",
    "                    company[dt.text] = about_card.find_elements(By.TAG_NAME, 'dd')[i].text\n",
    "                if dt.text == \"Industry\":\n",
    "                    company[dt.text] = about_card.find_elements(By.TAG_NAME, 'dd')[i].text\n",
    "                if dt.text == \"Company size\":\n",
    "                    company[dt.text] = about_card.find_elements(By.TAG_NAME, 'dd')[i].text\n",
    "                if dt.text == \"Founded\":\n",
    "                    company[dt.text] = about_card.find_elements(By.TAG_NAME, 'dd')[i+1].text\n",
    "                if dt.text == \"Specialties\":\n",
    "                    company[dt.text] = about_card.find_elements(By.TAG_NAME, 'dd')[i+1].text\n",
    "\n",
    "    except: \n",
    "        pass\n",
    "    \n",
    "    all_companies.append(company)"
   ]
  },
  {
   "cell_type": "code",
   "execution_count": null,
   "id": "853bfe3f",
   "metadata": {},
   "outputs": [],
   "source": [
    "df_re = pd.DataFrame(all_companies)"
   ]
  },
  {
   "cell_type": "code",
   "execution_count": null,
   "id": "8a1ce759",
   "metadata": {},
   "outputs": [],
   "source": [
    "df_re.head(3)"
   ]
  },
  {
   "cell_type": "code",
   "execution_count": null,
   "id": "412c7058",
   "metadata": {},
   "outputs": [],
   "source": [
    "# YOU NEED TO MAKE SURE ALL REQUIREMENTS FOR df2gspread ARE SATIFIED\n",
    "\n",
    "scope = ['https://spreadsheets.google.com/feeds',\n",
    "         'https://www.googleapis.com/auth/drive']\n",
    "credentials = ServiceAccountCredentials.from_json_keyfile_name(\n",
    "    'PATH TO jsonFileFromGoogle.json', scope)\n",
    "gc = gspread.authorize(credentials)\n",
    "\n",
    "\n",
    "\n",
    "spreadsheet_key = 'GOOGLE SHEETS ID'\n",
    "wks_name = filename\n",
    "d2g.upload(df_re.reset_index(), spreadsheet_key, wks_name, credentials=credentials, row_names=True)\n"
   ]
  },
  {
   "cell_type": "code",
   "execution_count": null,
   "id": "5bcba526",
   "metadata": {},
   "outputs": [],
   "source": [
    "driver.quit()"
   ]
  }
 ],
 "metadata": {
  "kernelspec": {
   "display_name": "Python 3 (ipykernel)",
   "language": "python",
   "name": "python3"
  },
  "language_info": {
   "codemirror_mode": {
    "name": "ipython",
    "version": 3
   },
   "file_extension": ".py",
   "mimetype": "text/x-python",
   "name": "python",
   "nbconvert_exporter": "python",
   "pygments_lexer": "ipython3",
   "version": "3.8.9"
  }
 },
 "nbformat": 4,
 "nbformat_minor": 5
}
